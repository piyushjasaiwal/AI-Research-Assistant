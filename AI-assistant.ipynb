{
 "cells": [
  {
   "cell_type": "code",
   "execution_count": 47,
   "id": "2c8fceca",
   "metadata": {},
   "outputs": [],
   "source": [
    "# Imports\n",
    "from langchain.llms import huggingface_hub\n",
    "from langchain.prompts import PromptTemplate\n",
    "from langchain.tools.tavily_search import TavilySearchResults\n",
    "import os\n",
    "from dotenv import load_dotenv\n",
    "from langgraph.checkpoint.memory import MemorySaver\n",
    "from langgraph.graph import START, MessagesState, StateGraph"
   ]
  },
  {
   "cell_type": "code",
   "execution_count": 48,
   "id": "eaf626dc",
   "metadata": {},
   "outputs": [
    {
     "data": {
      "text/plain": [
       "True"
      ]
     },
     "execution_count": 48,
     "metadata": {},
     "output_type": "execute_result"
    }
   ],
   "source": [
    "load_dotenv()"
   ]
  },
  {
   "cell_type": "code",
   "execution_count": 49,
   "id": "76395f07",
   "metadata": {},
   "outputs": [],
   "source": [
    "# Setup tavily tool\n",
    "TAVILY_API_KEY = os.getenv(\"TAVILY_KEY\")\n",
    "search_tool = TavilySearchResults(tavily_api_key=TAVILY_API_KEY)"
   ]
  },
  {
   "cell_type": "code",
   "execution_count": 50,
   "id": "6ba35f95",
   "metadata": {},
   "outputs": [
    {
     "name": "stderr",
     "output_type": "stream",
     "text": [
      "Device set to use cpu\n"
     ]
    }
   ],
   "source": [
    "# Hugging face LLM implementation with transformers\n",
    "# this pipeline is optimised for summarisation tasks\n",
    "from transformers import AutoTokenizer, AutoModelForSeq2SeqLM, pipeline\n",
    "from langchain.llms import HuggingFacePipeline\n",
    "\n",
    "model_name = \"google/flan-t5-small\"\n",
    "\n",
    "tokenizer = AutoTokenizer.from_pretrained(model_name)\n",
    "model = AutoModelForSeq2SeqLM.from_pretrained(model_name)\n",
    "\n",
    "pipe = pipeline(\"summarization\", model=model, tokenizer=tokenizer)\n",
    "llm = HuggingFacePipeline(pipeline=pipe)"
   ]
  },
  {
   "cell_type": "code",
   "execution_count": 51,
   "id": "20dfddb5",
   "metadata": {},
   "outputs": [
    {
     "name": "stderr",
     "output_type": "stream",
     "text": [
      "Device set to use cpu\n"
     ]
    }
   ],
   "source": [
    "# this pipeline is optimised for q and a type tasks\n",
    "from transformers import AutoTokenizer, AutoModelForQuestionAnswering, pipeline\n",
    "from langchain.llms import HuggingFacePipeline\n",
    "\n",
    "model_name = \"distilbert-base-cased-distilled-squad\"\n",
    "\n",
    "tokenizer = AutoTokenizer.from_pretrained(model_name)\n",
    "model = AutoModelForQuestionAnswering.from_pretrained(model_name)\n",
    "\n",
    "qa_pipe = pipeline(\"question-answering\", model=model, tokenizer=tokenizer)\n",
    "# llm = HuggingFacePipeline(pipeline=qa_pipe)"
   ]
  },
  {
   "cell_type": "code",
   "execution_count": 52,
   "id": "c6549ab9",
   "metadata": {},
   "outputs": [
    {
     "name": "stdout",
     "output_type": "stream",
     "text": [
      "{'score': 0.9366341829299927, 'start': 167, 'end': 203, 'answer': 'solar, wind, and hydroelectric power'}\n",
      "6918\n",
      "4\n"
     ]
    }
   ],
   "source": [
    "# text = str(\"The transition from fossil fuels to renewable energy has been one of the most significant technological and environmental developments of the 21st century. While the concept of using natural resources like sunlight and wind is not new, its application on a wide scale is a modern phenomenon driven by necessity and innovation. Renewable energy sources—solar, wind, hydro, geothermal, and biomass—offer a cleaner, more sustainable alternative to traditional fossil fuels such as coal, oil, and natural gas. These traditional energy sources, though reliable, have led to significant environmental damage, including air pollution, greenhouse gas emissions, and global warming. Historically, civilizations have harnessed renewable energy in rudimentary ways. Ancient Greeks used passive solar architecture to heat homes, and early water wheels powered mills in medieval Europe. Windmills, developed in Persia as early as the 9th century, were used to grind grain and pump water. However, the industrial revolution shifted global energy dependency toward fossil fuels, particularly coal and later oil, due to their higher energy density and transportability. This shift marked the beginning of large-scale carbon emissions and growing concerns about environmental degradation. It wasn’t until the late 20th century that the conversation around renewable energy re-emerged with urgency. The oil crises of the 1970s exposed the vulnerabilities of relying heavily on foreign oil. At the same time, scientists were uncovering the long-term dangers of carbon emissions, including their role in climate change. These realizations prompted investment in alternative energy sources. Governments began funding research into solar panels, wind turbines, and biofuels, although the technology remained expensive and relatively inefficient compared to fossil fuels at the time. Fast forward to the 21st century, renewable energy has become increasingly viable. Advances in photovoltaic technology have drastically reduced the cost of solar panels. Wind turbines have grown more efficient, and battery storage solutions are rapidly improving. According to the International Energy Agency (IEA), solar power is now the cheapest source of electricity in history in many parts of the world. This dramatic cost reduction has made renewable energy more accessible, not just for developed countries but also for developing nations looking to build sustainable infrastructure. The impact of renewable energy extends beyond the environment. Economically, the renewable sector has become a major job creator. The solar industry alone employs millions worldwide, from manufacturing to installation and maintenance. Politically, it reduces dependence on volatile oil markets and empowers countries to control their own energy production. Socially, access to off-grid solar solutions has provided electricity to remote communities, improving education, healthcare, and overall quality of life. Despite these advantages, challenges remain. Energy storage, grid integration, and raw material sourcing for batteries and solar panels are ongoing issues. Nonetheless, the trajectory is clear: renewable energy is not just a complement to fossil fuels—it is the cornerstone of a sustainable future. As technology continues to evolve and public awareness grows, the global shift toward renewables will likely accelerate, reshaping the way humanity powers its civilization for generations to come.The transition from fossil fuels to renewable energy has been one of the most significant technological and environmental developments of the 21st century. While the concept of using natural resources like sunlight and wind is not new, its application on a wide scale is a modern phenomenon driven by necessity and innovation. Renewable energy sources—solar, wind, hydro, geothermal, and biomass—offer a cleaner, more sustainable alternative to traditional fossil fuels such as coal, oil, and natural gas. These traditional energy sources, though reliable, have led to significant environmental damage, including air pollution, greenhouse gas emissions, and global warming. Historically, civilizations have harnessed renewable energy in rudimentary ways. Ancient Greeks used passive solar architecture to heat homes, and early water wheels powered mills in medieval Europe. Windmills, developed in Persia as early as the 9th century, were used to grind grain and pump water. However, the industrial revolution shifted global energy dependency toward fossil fuels, particularly coal and later oil, due to their higher energy density and transportability. This shift marked the beginning of large-scale carbon emissions and growing concerns about environmental degradation. It wasn’t until the late 20th century that the conversation around renewable energy re-emerged with urgency. The oil crises of the 1970s exposed the vulnerabilities of relying heavily on foreign oil. At the same time, scientists were uncovering the long-term dangers of carbon emissions, including their role in climate change. These realizations prompted investment in alternative energy sources. Governments began funding research into solar panels, wind turbines, and biofuels, although the technology remained expensive and relatively inefficient compared to fossil fuels at the time. Fast forward to the 21st century, renewable energy has become increasingly viable. Advances in photovoltaic technology have drastically reduced the cost of solar panels. Wind turbines have grown more efficient, and battery storage solutions are rapidly improving. According to the International Energy Agency (IEA), solar power is now the cheapest source of electricity in history in many parts of the world. This dramatic cost reduction has made renewable energy more accessible, not just for developed countries but also for developing nations looking to build sustainable infrastructure. The impact of renewable energy extends beyond the environment. Economically, the renewable sector has become a major job creator. The solar industry alone employs millions worldwide, from manufacturing to installation and maintenance. Politically, it reduces dependence on volatile oil markets and empowers countries to control their own energy production. Socially, access to off-grid solar solutions has provided electricity to remote communities, improving education, healthcare, and overall quality of life. Despite these advantages, challenges remain. Energy storage, grid integration, and raw material sourcing for batteries and solar panels are ongoing issues. Nonetheless, the trajectory is clear: renewable energy is not just a complement to fossil fuels—it is the cornerstone of a sustainable future. As technology continues to evolve and public awareness grows, the global shift toward renewables will likely accelerate, reshaping the way humanity powers its civilization for generations to come.\")\n",
    "# prompt_template = PromptTemplate.from_template(\"summarize this passage :{text}\")\n",
    "# prompt_template = PromptTemplate.from_template(\"tell me something about fossil fuels\")\n",
    "# # prompt_string = prompt_template.invoke({\"text\", text}).to_string();\n",
    "# response = llm(prompt_template.template)\n",
    "\n",
    "context = \"\"\"\n",
    "Renewable energy is energy derived from resources that are regenerative or for all practical purposes, inexhaustible. The most common sources of renewable energy are solar, wind, and hydroelectric power. \n",
    "In addition to being environmentally friendly, renewable energy is also sustainable and can contribute to reducing dependence on fossil fuels. Renewable energy technology is improving at a rapid rate, and the adoption of these technologies is increasing globally.\n",
    "\"\"\"\n",
    "question = \"What are the common sources of renewable energy?\"\n",
    "response = qa_pipe(question=question, context=context)\n",
    "\n",
    "\n",
    "print(response)\n",
    "print(len(text))\n",
    "print(len(response))"
   ]
  },
  {
   "cell_type": "code",
   "execution_count": 59,
   "id": "421b4a00",
   "metadata": {},
   "outputs": [],
   "source": [
    "#function for various nodes\n",
    "\n",
    "def question_input(state):\n",
    "    print(state)\n",
    "    return {\"question\": state[\"question\"]}\n",
    "\n",
    "def retrieve_context(state):\n",
    "    print(state)\n",
    "    question = state[\"question\"]\n",
    "    # at a later stage this hardcoded context can be replaced with a real web search using tavily\n",
    "    context = \"LangGraph is a library to build stateful agents using LangChain.\"\n",
    "    return {\"question\": question, \"context\": context}\n",
    "\n",
    "def call_llm(state):\n",
    "    print(state)\n",
    "    question = state[\"question\"]\n",
    "    context = state[\"context\"]\n",
    "    prompt = f\"Answer the question using the following context:\\n\\n{context}\\n\\nQ: {question}\"\n",
    "    answer = qa_pipe(question=question, context=context)\n",
    "    return {\"answer\": answer}\n",
    "\n",
    "def return_answer(state):\n",
    "    print(state)\n",
    "    return {\"answer\": state[\"answer\"]}"
   ]
  },
  {
   "cell_type": "code",
   "execution_count": 63,
   "id": "da60ee1a",
   "metadata": {},
   "outputs": [],
   "source": [
    "#creating a state graph\n",
    "from langgraph.graph import StateGraph\n",
    "\n",
    "builder = StateGraph(state_schema=dict)\n",
    "\n",
    "builder.add_node(\"question_input\", question_input)\n",
    "builder.add_node(\"context_retreival\", retrieve_context)\n",
    "builder.add_node(\"llm_answer\", call_llm)\n",
    "builder.add_node(\"final_output\", return_answer)\n",
    "\n",
    "builder.set_entry_point(\"question_input\")\n",
    "builder.add_edge(\"question_input\", \"context_retreival\")\n",
    "builder.add_edge(\"context_retreival\", \"llm_answer\")\n",
    "builder.add_edge(\"llm_answer\", \"final_output\")\n",
    "\n",
    "graph = builder.compile()"
   ]
  },
  {
   "cell_type": "code",
   "execution_count": 64,
   "id": "271f255e",
   "metadata": {},
   "outputs": [
    {
     "name": "stdout",
     "output_type": "stream",
     "text": [
      "{'question': 'What is Langgraph?'}\n",
      "{'question': 'What is Langgraph?'}\n",
      "{'question': 'What is Langgraph?', 'context': 'LangGraph is a library to build stateful agents using LangChain.'}\n",
      "{'answer': {'score': 0.3214593529701233, 'start': 13, 'end': 47, 'answer': 'a library to build stateful agents'}}\n",
      "{'score': 0.3214593529701233, 'start': 13, 'end': 47, 'answer': 'a library to build stateful agents'}\n"
     ]
    }
   ],
   "source": [
    "response = graph.invoke({\"question\" : \"What is Langgraph?\"})\n",
    "print(response[\"answer\"])"
   ]
  },
  {
   "cell_type": "code",
   "execution_count": null,
   "id": "0028b759",
   "metadata": {},
   "outputs": [],
   "source": []
  }
 ],
 "metadata": {
  "kernelspec": {
   "display_name": "AI-research-assistant",
   "language": "python",
   "name": "python3"
  },
  "language_info": {
   "codemirror_mode": {
    "name": "ipython",
    "version": 3
   },
   "file_extension": ".py",
   "mimetype": "text/x-python",
   "name": "python",
   "nbconvert_exporter": "python",
   "pygments_lexer": "ipython3",
   "version": "3.10.16"
  }
 },
 "nbformat": 4,
 "nbformat_minor": 5
}
