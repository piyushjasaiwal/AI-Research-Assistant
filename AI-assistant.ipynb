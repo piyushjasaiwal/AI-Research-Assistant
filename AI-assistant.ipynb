{
 "cells": [
  {
   "cell_type": "code",
   "execution_count": null,
   "id": "2c8fceca",
   "metadata": {},
   "outputs": [],
   "source": [
    "# Imports\n",
    "from langchain.tools.tavily_search import TavilySearchResults\n",
    "import os\n",
    "from dotenv import load_dotenv\n",
    "from langgraph.checkpoint.memory import MemorySaver"
   ]
  },
  {
   "cell_type": "code",
   "execution_count": 15,
   "id": "eaf626dc",
   "metadata": {},
   "outputs": [
    {
     "data": {
      "text/plain": [
       "True"
      ]
     },
     "execution_count": 15,
     "metadata": {},
     "output_type": "execute_result"
    }
   ],
   "source": [
    "load_dotenv()"
   ]
  },
  {
   "cell_type": "code",
   "execution_count": 16,
   "id": "76395f07",
   "metadata": {},
   "outputs": [],
   "source": [
    "# Setup tavily tool\n",
    "TAVILY_API_KEY = os.getenv(\"TAVILY_KEY\")\n",
    "tavily_search_tool = TavilySearchResults(tavily_api_key=TAVILY_API_KEY)"
   ]
  },
  {
   "cell_type": "code",
   "execution_count": 7,
   "id": "6ba35f95",
   "metadata": {},
   "outputs": [
    {
     "name": "stderr",
     "output_type": "stream",
     "text": [
      "Device set to use cpu\n"
     ]
    }
   ],
   "source": [
    "# Hugging face LLM implementation with transformers\n",
    "# this pipeline is optimised for summarisation tasks\n",
    "from transformers import AutoTokenizer, AutoModelForSeq2SeqLM, pipeline\n",
    "from langchain.llms import HuggingFacePipeline\n",
    "\n",
    "model_name = \"google/flan-t5-small\"\n",
    "\n",
    "tokenizer = AutoTokenizer.from_pretrained(model_name)\n",
    "model = AutoModelForSeq2SeqLM.from_pretrained(model_name)\n",
    "\n",
    "pipe = pipeline(\"summarization\", model=model, tokenizer=tokenizer)\n",
    "llm = HuggingFacePipeline(pipeline=pipe)"
   ]
  },
  {
   "cell_type": "code",
   "execution_count": 8,
   "id": "20dfddb5",
   "metadata": {},
   "outputs": [
    {
     "name": "stderr",
     "output_type": "stream",
     "text": [
      "Device set to use cpu\n"
     ]
    }
   ],
   "source": [
    "# this pipeline is optimised for q and a type tasks\n",
    "from transformers import AutoTokenizer, AutoModelForCausalLM, pipeline\n",
    "from langchain.llms import HuggingFacePipeline\n",
    "\n",
    "model_name = \"distilgpt2\"\n",
    "\n",
    "tokenizer = AutoTokenizer.from_pretrained(model_name)\n",
    "model = AutoModelForCausalLM.from_pretrained(model_name)\n",
    "\n",
    "qa_pipe = pipeline(\"text-generation\", model=model, tokenizer=tokenizer, max_new_tokens=200)\n",
    "llm = HuggingFacePipeline(pipeline=qa_pipe)"
   ]
  },
  {
   "cell_type": "code",
   "execution_count": 9,
   "id": "c6549ab9",
   "metadata": {},
   "outputs": [
    {
     "name": "stderr",
     "output_type": "stream",
     "text": [
      "Setting `pad_token_id` to `eos_token_id`:50256 for open-end generation.\n"
     ]
    },
    {
     "name": "stdout",
     "output_type": "stream",
     "text": [
      "Answer the following question based on the context:\n",
      "\n",
      "Context: \n",
      "Renewable energy is energy derived from resources that are regenerative or for all practical purposes, inexhaustible. The most common sources of renewable energy are solar, wind, and hydroelectric power. \n",
      "In addition to being environmentally friendly, renewable energy is also sustainable and can contribute to reducing dependence on fossil fuels. Renewable energy technology is improving at a rapid rate, and the adoption of these technologies is increasing globally.\n",
      "\n",
      "\n",
      "Q: What are the common sources of renewable energy?\n",
      "A: Clean electricity, solar, wind, and hydroelectric power are more effective and sustainable than fossil fuels.\n",
      "Q: Is it good for people to use wind and solar energy?\n",
      "A: It depends on how you use it, and how your resources are used. For example, energy from wind to solar is a small percentage of the renewable energy being generated.\n",
      "Q: What are the reasons for increasing our use of renewable energy?\n",
      "A: Because it's cleaner and more energy efficient.\n",
      "Q: Isn't solar so much more efficient?\n",
      "A: It's only a very small fraction of the total renewables used.\n",
      "Q: Does that make you less efficient?\n",
      "A: It reduces dependence, increases the availability of energy, and decreases the risk of accidents in the future.\n",
      "Q: Are you actually benefiting for yourself or for children or for children?\n",
      "A: It's like when people live in a house or a business, or are making the right decisions without the use\n",
      "<class 'str'>\n",
      "1480\n"
     ]
    }
   ],
   "source": [
    "# text = str(\"The transition from fossil fuels to renewable energy has been one of the most significant technological and environmental developments of the 21st century. While the concept of using natural resources like sunlight and wind is not new, its application on a wide scale is a modern phenomenon driven by necessity and innovation. Renewable energy sources—solar, wind, hydro, geothermal, and biomass—offer a cleaner, more sustainable alternative to traditional fossil fuels such as coal, oil, and natural gas. These traditional energy sources, though reliable, have led to significant environmental damage, including air pollution, greenhouse gas emissions, and global warming. Historically, civilizations have harnessed renewable energy in rudimentary ways. Ancient Greeks used passive solar architecture to heat homes, and early water wheels powered mills in medieval Europe. Windmills, developed in Persia as early as the 9th century, were used to grind grain and pump water. However, the industrial revolution shifted global energy dependency toward fossil fuels, particularly coal and later oil, due to their higher energy density and transportability. This shift marked the beginning of large-scale carbon emissions and growing concerns about environmental degradation. It wasn’t until the late 20th century that the conversation around renewable energy re-emerged with urgency. The oil crises of the 1970s exposed the vulnerabilities of relying heavily on foreign oil. At the same time, scientists were uncovering the long-term dangers of carbon emissions, including their role in climate change. These realizations prompted investment in alternative energy sources. Governments began funding research into solar panels, wind turbines, and biofuels, although the technology remained expensive and relatively inefficient compared to fossil fuels at the time. Fast forward to the 21st century, renewable energy has become increasingly viable. Advances in photovoltaic technology have drastically reduced the cost of solar panels. Wind turbines have grown more efficient, and battery storage solutions are rapidly improving. According to the International Energy Agency (IEA), solar power is now the cheapest source of electricity in history in many parts of the world. This dramatic cost reduction has made renewable energy more accessible, not just for developed countries but also for developing nations looking to build sustainable infrastructure. The impact of renewable energy extends beyond the environment. Economically, the renewable sector has become a major job creator. The solar industry alone employs millions worldwide, from manufacturing to installation and maintenance. Politically, it reduces dependence on volatile oil markets and empowers countries to control their own energy production. Socially, access to off-grid solar solutions has provided electricity to remote communities, improving education, healthcare, and overall quality of life. Despite these advantages, challenges remain. Energy storage, grid integration, and raw material sourcing for batteries and solar panels are ongoing issues. Nonetheless, the trajectory is clear: renewable energy is not just a complement to fossil fuels—it is the cornerstone of a sustainable future. As technology continues to evolve and public awareness grows, the global shift toward renewables will likely accelerate, reshaping the way humanity powers its civilization for generations to come.The transition from fossil fuels to renewable energy has been one of the most significant technological and environmental developments of the 21st century. While the concept of using natural resources like sunlight and wind is not new, its application on a wide scale is a modern phenomenon driven by necessity and innovation. Renewable energy sources—solar, wind, hydro, geothermal, and biomass—offer a cleaner, more sustainable alternative to traditional fossil fuels such as coal, oil, and natural gas. These traditional energy sources, though reliable, have led to significant environmental damage, including air pollution, greenhouse gas emissions, and global warming. Historically, civilizations have harnessed renewable energy in rudimentary ways. Ancient Greeks used passive solar architecture to heat homes, and early water wheels powered mills in medieval Europe. Windmills, developed in Persia as early as the 9th century, were used to grind grain and pump water. However, the industrial revolution shifted global energy dependency toward fossil fuels, particularly coal and later oil, due to their higher energy density and transportability. This shift marked the beginning of large-scale carbon emissions and growing concerns about environmental degradation. It wasn’t until the late 20th century that the conversation around renewable energy re-emerged with urgency. The oil crises of the 1970s exposed the vulnerabilities of relying heavily on foreign oil. At the same time, scientists were uncovering the long-term dangers of carbon emissions, including their role in climate change. These realizations prompted investment in alternative energy sources. Governments began funding research into solar panels, wind turbines, and biofuels, although the technology remained expensive and relatively inefficient compared to fossil fuels at the time. Fast forward to the 21st century, renewable energy has become increasingly viable. Advances in photovoltaic technology have drastically reduced the cost of solar panels. Wind turbines have grown more efficient, and battery storage solutions are rapidly improving. According to the International Energy Agency (IEA), solar power is now the cheapest source of electricity in history in many parts of the world. This dramatic cost reduction has made renewable energy more accessible, not just for developed countries but also for developing nations looking to build sustainable infrastructure. The impact of renewable energy extends beyond the environment. Economically, the renewable sector has become a major job creator. The solar industry alone employs millions worldwide, from manufacturing to installation and maintenance. Politically, it reduces dependence on volatile oil markets and empowers countries to control their own energy production. Socially, access to off-grid solar solutions has provided electricity to remote communities, improving education, healthcare, and overall quality of life. Despite these advantages, challenges remain. Energy storage, grid integration, and raw material sourcing for batteries and solar panels are ongoing issues. Nonetheless, the trajectory is clear: renewable energy is not just a complement to fossil fuels—it is the cornerstone of a sustainable future. As technology continues to evolve and public awareness grows, the global shift toward renewables will likely accelerate, reshaping the way humanity powers its civilization for generations to come.\")\n",
    "# prompt_template = PromptTemplate.from_template(\"summarize this passage :{text}\")\n",
    "# prompt_template = PromptTemplate.from_template(\"tell me something about fossil fuels\")\n",
    "# # prompt_string = prompt_template.invoke({\"text\", text}).to_string();\n",
    "# response = llm(prompt_template.template)\n",
    "\n",
    "context = \"\"\"\n",
    "Renewable energy is energy derived from resources that are regenerative or for all practical purposes, inexhaustible. The most common sources of renewable energy are solar, wind, and hydroelectric power. \n",
    "In addition to being environmentally friendly, renewable energy is also sustainable and can contribute to reducing dependence on fossil fuels. Renewable energy technology is improving at a rapid rate, and the adoption of these technologies is increasing globally.\n",
    "\"\"\"\n",
    "question = \"What are the common sources of renewable energy?\"\n",
    "# response = llm.invoke(question)\n",
    "\n",
    "def generate_answer(question, context):\n",
    "    # Format the prompt with both question and context\n",
    "    prompt = f\"Answer the following question based on the context:\\n\\nContext: {context}\\n\\nQ: {question}\\nA:\"\n",
    "    \n",
    "    # Generate the answer\n",
    "    response = llm.invoke(prompt)\n",
    "    return response\n",
    "\n",
    "response = generate_answer(question, context)\n",
    "print(response)\n",
    "print(type(response))\n",
    "print(len(response))"
   ]
  },
  {
   "cell_type": "code",
   "execution_count": 41,
   "id": "421b4a00",
   "metadata": {},
   "outputs": [],
   "source": [
    "#function for various nodes\n",
    "\n",
    "import re\n",
    "\n",
    "def clean_context(text: str) -> str:\n",
    "    # Remove bracketed references or ellipses like: [...] or [text]\n",
    "    text = re.sub(r'\\[\\.\\.\\.\\]|\\[.*?\\]', '', text)\n",
    "\n",
    "    # Remove markdown headings and numbered list items\n",
    "    text = re.sub(r'^\\s*#{1,6}\\s*.*$', '', text, flags=re.MULTILINE)      # Markdown headings\n",
    "    text = re.sub(r'^\\s*\\d+\\.\\s*', '', text, flags=re.MULTILINE)          # Numbered bullets\n",
    "    text = re.sub(r'^\\s*[-*+]\\s+', '', text, flags=re.MULTILINE)          # Bullet points\n",
    "\n",
    "    # Remove repeated section headers like \"Conclusion\", \"Why LangGraph?\", etc.\n",
    "    text = re.sub(r'^\\s*(Conclusion|Why LangGraph\\?|Which Should You Use\\?).*$', '', text, flags=re.IGNORECASE | re.MULTILINE)\n",
    "\n",
    "    # Remove excess newlines and whitespace\n",
    "    text = re.sub(r'\\n{2,}', '\\n', text)\n",
    "    text = re.sub(r'\\s{2,}', ' ', text)\n",
    "\n",
    "    # Strip leading/trailing whitespace\n",
    "    return text.strip()\n",
    "\n",
    "def question_input(state):\n",
    "    print(\"Question input node\")\n",
    "    print(state)\n",
    "    return {\"question\": state[\"question\"]}\n",
    "\n",
    "def retrieve_context(state):\n",
    "    print(\"retrive context node\")\n",
    "    print(state)\n",
    "    question = state[\"question\"]\n",
    "    filters = {\"language\": \"en\", \"region\": \"US\"}\n",
    "    results = tavily_search_tool.invoke({\n",
    "        \"query\": question, \n",
    "        \"num_results\": 10,  # Request 10 results\n",
    "        \"filters\": filters,  # Apply filters for language and region\n",
    "        \"safe_search\": True,  # Enable safe search\n",
    "        \"search_type\": \"web\"  # Ensure we're doing a web search    \n",
    "    })\n",
    "    context = \"\\n\\n\".join([res[\"content\"] for res in results])\n",
    "    print(context)\n",
    "    return {\"question\": question, \"context\": context}\n",
    "\n",
    "def call_llm(state):\n",
    "    print(\"call llm node\")\n",
    "    print(state)\n",
    "    question = state[\"question\"]\n",
    "    context = state[\"context\"]\n",
    "    context = clean_context(context)\n",
    "    print(f\"Question type: {type(state['question'])}, value: {state['question']}\")\n",
    "    print(f\"Context type: {type(state['context'])}, value: {state['context']}\")\n",
    "    prompt = f\"Answer the question using the following context:\\n\\n{context}\\n\\nQ: {question}\"\n",
    "    print(\"promt is:\\n\" + prompt)\n",
    "    answer = llm.invoke(prompt)\n",
    "    return {\"answer\": answer}\n",
    "\n",
    "def return_answer(state):\n",
    "    print(\"return answer node\")\n",
    "    print(state)\n",
    "    return {\"answer\": state[\"answer\"]}"
   ]
  },
  {
   "cell_type": "code",
   "execution_count": 42,
   "id": "da60ee1a",
   "metadata": {},
   "outputs": [],
   "source": [
    "#creating a state graph\n",
    "from langgraph.graph import StateGraph\n",
    "\n",
    "builder = StateGraph(state_schema=dict)\n",
    "\n",
    "builder.add_node(\"question_input\", question_input)\n",
    "builder.add_node(\"context_retreival\", retrieve_context)\n",
    "builder.add_node(\"llm_answer\", call_llm)\n",
    "builder.add_node(\"final_output\", return_answer)\n",
    "\n",
    "builder.set_entry_point(\"question_input\")\n",
    "builder.add_edge(\"question_input\", \"context_retreival\")\n",
    "builder.add_edge(\"context_retreival\", \"llm_answer\")\n",
    "builder.add_edge(\"llm_answer\", \"final_output\")\n",
    "\n",
    "graph = builder.compile()"
   ]
  },
  {
   "cell_type": "code",
   "execution_count": 44,
   "id": "271f255e",
   "metadata": {},
   "outputs": [
    {
     "name": "stdout",
     "output_type": "stream",
     "text": [
      "Question input node\n",
      "{'question': 'Why should I use langgraph?'}\n",
      "retrive context node\n",
      "{'question': 'Why should I use langgraph?'}\n"
     ]
    },
    {
     "name": "stderr",
     "output_type": "stream",
     "text": [
      "Setting `pad_token_id` to `eos_token_id`:50256 for open-end generation.\n"
     ]
    },
    {
     "name": "stdout",
     "output_type": "stream",
     "text": [
      "LangGraph ensures agents execute in the correct order and that necessary information is exchanged seamlessly. This coordination is vital for complex applications where multiple agents need to work together to achieve a common goal. By managing the flow of data and the sequence of operations, LangGraph allows developers to focus on the high-level logic of their applications rather than the intricacies of agent coordination.\n",
      "Why LangGraph? [...] In educational platforms, LangGraph can be used to create adaptive learning environments that cater to individual learning styles and needs. Multiple agents can assess a student's progress, provide customized exercises, and offer real-time feedback. The stateful nature of LangGraph ensures that the system retains information about each learner's performance and preferences, enabling a more personalized and effective educational experience.\n",
      "Conclusion [...] For applications requiring autonomous decision-making, LangGraph enables the creation of agents that can perform tasks independently based on user inputs and predefined logic.\n",
      "These agents can execute complex workflows, interact with other systems, and adapt to new information dynamically. LangGraph's structured framework ensures that each agent operates efficiently and effectively, making it suitable for tasks like automated customer support, data processing, and system monitoring.\n",
      "\n",
      "What’s impressive is that LangGraph provides a high-level abstraction to build AI applications that involve multiple agents and require them to seamlessly interact with one another.\n",
      "It streamlines, simplifies, and accelerates the development process by giving developers the flexibility to build LLM apps with various architectures. Further, LangGraph enables developers to define the actors, their attributes, their relationships, and their behaviors using a graph-based representation. [...] 1.    Advanced Chatbots: LangGraph's ability to create cyclical graphs and manage sophisticated language tasks makes it particularly useful for developing advanced chatbots that require more flexible and customized interactions.\n",
      "2.    Interactive AI Systems: The flexibility and dynamic nature of LangGraph make it well-suited for interactive AI systems that need to manage and execute complex language tasks, enabling more adaptable and customizable agent runtimes. [...] Cyclic data flows: LangGraph supports cyclic data flows, which allow nodes to receive feedback from their previous outputs and inputs. This feature enables applications to maintain a memory of past interactions and use that information to tailor their responses accordingly.\n",
      "Ease of use: LangGraph is designed to be easy to use, with a simple and intuitive API that enables developers to create stateful, multi-actor applications with LLMs quickly.\n",
      "\n",
      "3. Flexible Message Types and Parameters\n",
      "LangGraph also provides a versatile way to handle message types and parameters. Each node can produce messages of any type: AI messages, function messages, or system messages. These messages can also include a variety of parameters beyond just the basic ‘content’ parameter. Here’s why this flexibility is beneficial: [...] Conclusion\n",
      "LangGraph’s advanced workflow control, the ability to ensure quality in function calling, the customization of message types and parameters, and convenient state and LLM token management are just a few reasons why it stood out to me among the rest of agent frameworks. These features not only streamline the development process but also ensure that the end product is flexible, reliable, and user centric. [...] As AI continues to evolve, I believe compound systems are set to become a leading paradigm. Now you might wonder which frameworks are optimal for constructing such compound systems. In my role, while developing a virtual assistant, I delved into various frameworks to find the one that best suited our needs. Following an extensive evaluation and practical application, LangGraph emerged as my top choice and here’s why.\n",
      "1. Advanced Workflow Control\n",
      "\n",
      "Additionally, LangGraph’s built-in persistence allows you to save and resume workflows at any point, facilitating smooth recovery from interruptions and supporting advanced use cases like time travel and long-term memory. LangGraph is perfect for creating dynamic, reliable multi-agent systems. [...] LangGraph uses graphs to build stateful applications with large language models. It enables the orchestration of complex workflows with cycles and fine control over flow and state. It features built-in persistence for error recovery and human-in-the-loop interactions and integrates seamlessly with existing tools and frameworks.\n",
      "\n",
      "But if you’re building something more complex — like a virtual assistant or a system that needs to handle multiple, interdependent tasks — LangGraph is the way to go. Its graph structure and robust state management make it perfect for applications that require flexibility and context awareness. [...] LangGraph is ideal for complex systems that require continuous interaction and adaptation. This includes applications like virtual assistants that need to maintain conversation context over extended periods and manage various user requests. Its stateful nature and flexible graph structure make it suitable for these scenarios where the flow of the application is not linear. [...] LangChain excels at sequential tasks, like retrieving data, processing it, and outputting a result. LangGraph is better suited for complex, adaptive systems that require ongoing interaction, such as virtual assistants that need to maintain context over long conversations.\n",
      "Which Should You Use?\n",
      "call llm node\n",
      "{'question': 'Why should I use langgraph?', 'context': \"LangGraph ensures agents execute in the correct order and that necessary information is exchanged seamlessly. This coordination is vital for complex applications where multiple agents need to work together to achieve a common goal. By managing the flow of data and the sequence of operations, LangGraph allows developers to focus on the high-level logic of their applications rather than the intricacies of agent coordination.\\nWhy LangGraph? [...] In educational platforms, LangGraph can be used to create adaptive learning environments that cater to individual learning styles and needs. Multiple agents can assess a student's progress, provide customized exercises, and offer real-time feedback. The stateful nature of LangGraph ensures that the system retains information about each learner's performance and preferences, enabling a more personalized and effective educational experience.\\nConclusion [...] For applications requiring autonomous decision-making, LangGraph enables the creation of agents that can perform tasks independently based on user inputs and predefined logic.\\nThese agents can execute complex workflows, interact with other systems, and adapt to new information dynamically. LangGraph's structured framework ensures that each agent operates efficiently and effectively, making it suitable for tasks like automated customer support, data processing, and system monitoring.\\n\\nWhat’s impressive is that LangGraph provides a high-level abstraction to build AI applications that involve multiple agents and require them to seamlessly interact with one another.\\nIt streamlines, simplifies, and accelerates the development process by giving developers the flexibility to build LLM apps with various architectures. Further, LangGraph enables developers to define the actors, their attributes, their relationships, and their behaviors using a graph-based representation. [...] 1.\\xa0\\xa0\\xa0 Advanced Chatbots: LangGraph's ability to create cyclical graphs and manage sophisticated language tasks makes it particularly useful for developing advanced chatbots that require more flexible and customized interactions.\\n2.\\xa0\\xa0\\xa0 Interactive AI Systems: The flexibility and dynamic nature of LangGraph make it well-suited for interactive AI systems that need to manage and execute complex language tasks, enabling more adaptable and customizable agent runtimes. [...] Cyclic data flows: LangGraph supports cyclic data flows, which allow nodes to receive feedback from their previous outputs and inputs. This feature enables applications to maintain a memory of past interactions and use that information to tailor their responses accordingly.\\nEase of use: LangGraph is designed to be easy to use, with a simple and intuitive API that enables developers to create stateful, multi-actor applications with LLMs quickly.\\n\\n3. Flexible Message Types and Parameters\\nLangGraph also provides a versatile way to handle message types and parameters. Each node can produce messages of any type: AI messages, function messages, or system messages. These messages can also include a variety of parameters beyond just the basic ‘content’ parameter. Here’s why this flexibility is beneficial: [...] Conclusion\\nLangGraph’s advanced workflow control, the ability to ensure quality in function calling, the customization of message types and parameters, and convenient state and LLM token management are just a few reasons why it stood out to me among the rest of agent frameworks. These features not only streamline the development process but also ensure that the end product is flexible, reliable, and user centric. [...] As AI continues to evolve, I believe compound systems are set to become a leading paradigm. Now you might wonder which frameworks are optimal for constructing such compound systems. In my role, while developing a virtual assistant, I delved into various frameworks to find the one that best suited our needs. Following an extensive evaluation and practical application, LangGraph emerged as my top choice and here’s why.\\n1. Advanced Workflow Control\\n\\nAdditionally, LangGraph’s built-in persistence allows you to save and resume workflows at any point, facilitating smooth recovery from interruptions and supporting advanced use cases like time travel and long-term memory. LangGraph is perfect for creating dynamic, reliable multi-agent systems. [...] LangGraph uses graphs to build stateful applications with large language models. It enables the orchestration of complex workflows with cycles and fine control over flow and state. It features built-in persistence for error recovery and human-in-the-loop interactions and integrates seamlessly with existing tools and frameworks.\\n\\nBut if you’re building something more complex — like a virtual assistant or a system that needs to handle multiple, interdependent tasks — LangGraph is the way to go. Its graph structure and robust state management make it perfect for applications that require flexibility and context awareness. [...] LangGraph is ideal for complex systems that require continuous interaction and adaptation. This includes applications like virtual assistants that need to maintain conversation context over extended periods and manage various user requests. Its stateful nature and flexible graph structure make it suitable for these scenarios where the flow of the application is not linear. [...] LangChain excels at sequential tasks, like retrieving data, processing it, and outputting a result. LangGraph is better suited for complex, adaptive systems that require ongoing interaction, such as virtual assistants that need to maintain context over long conversations.\\nWhich Should You Use?\"}\n",
      "Question type: <class 'str'>, value: Why should I use langgraph?\n",
      "Context type: <class 'str'>, value: LangGraph ensures agents execute in the correct order and that necessary information is exchanged seamlessly. This coordination is vital for complex applications where multiple agents need to work together to achieve a common goal. By managing the flow of data and the sequence of operations, LangGraph allows developers to focus on the high-level logic of their applications rather than the intricacies of agent coordination.\n",
      "Why LangGraph? [...] In educational platforms, LangGraph can be used to create adaptive learning environments that cater to individual learning styles and needs. Multiple agents can assess a student's progress, provide customized exercises, and offer real-time feedback. The stateful nature of LangGraph ensures that the system retains information about each learner's performance and preferences, enabling a more personalized and effective educational experience.\n",
      "Conclusion [...] For applications requiring autonomous decision-making, LangGraph enables the creation of agents that can perform tasks independently based on user inputs and predefined logic.\n",
      "These agents can execute complex workflows, interact with other systems, and adapt to new information dynamically. LangGraph's structured framework ensures that each agent operates efficiently and effectively, making it suitable for tasks like automated customer support, data processing, and system monitoring.\n",
      "\n",
      "What’s impressive is that LangGraph provides a high-level abstraction to build AI applications that involve multiple agents and require them to seamlessly interact with one another.\n",
      "It streamlines, simplifies, and accelerates the development process by giving developers the flexibility to build LLM apps with various architectures. Further, LangGraph enables developers to define the actors, their attributes, their relationships, and their behaviors using a graph-based representation. [...] 1.    Advanced Chatbots: LangGraph's ability to create cyclical graphs and manage sophisticated language tasks makes it particularly useful for developing advanced chatbots that require more flexible and customized interactions.\n",
      "2.    Interactive AI Systems: The flexibility and dynamic nature of LangGraph make it well-suited for interactive AI systems that need to manage and execute complex language tasks, enabling more adaptable and customizable agent runtimes. [...] Cyclic data flows: LangGraph supports cyclic data flows, which allow nodes to receive feedback from their previous outputs and inputs. This feature enables applications to maintain a memory of past interactions and use that information to tailor their responses accordingly.\n",
      "Ease of use: LangGraph is designed to be easy to use, with a simple and intuitive API that enables developers to create stateful, multi-actor applications with LLMs quickly.\n",
      "\n",
      "3. Flexible Message Types and Parameters\n",
      "LangGraph also provides a versatile way to handle message types and parameters. Each node can produce messages of any type: AI messages, function messages, or system messages. These messages can also include a variety of parameters beyond just the basic ‘content’ parameter. Here’s why this flexibility is beneficial: [...] Conclusion\n",
      "LangGraph’s advanced workflow control, the ability to ensure quality in function calling, the customization of message types and parameters, and convenient state and LLM token management are just a few reasons why it stood out to me among the rest of agent frameworks. These features not only streamline the development process but also ensure that the end product is flexible, reliable, and user centric. [...] As AI continues to evolve, I believe compound systems are set to become a leading paradigm. Now you might wonder which frameworks are optimal for constructing such compound systems. In my role, while developing a virtual assistant, I delved into various frameworks to find the one that best suited our needs. Following an extensive evaluation and practical application, LangGraph emerged as my top choice and here’s why.\n",
      "1. Advanced Workflow Control\n",
      "\n",
      "Additionally, LangGraph’s built-in persistence allows you to save and resume workflows at any point, facilitating smooth recovery from interruptions and supporting advanced use cases like time travel and long-term memory. LangGraph is perfect for creating dynamic, reliable multi-agent systems. [...] LangGraph uses graphs to build stateful applications with large language models. It enables the orchestration of complex workflows with cycles and fine control over flow and state. It features built-in persistence for error recovery and human-in-the-loop interactions and integrates seamlessly with existing tools and frameworks.\n",
      "\n",
      "But if you’re building something more complex — like a virtual assistant or a system that needs to handle multiple, interdependent tasks — LangGraph is the way to go. Its graph structure and robust state management make it perfect for applications that require flexibility and context awareness. [...] LangGraph is ideal for complex systems that require continuous interaction and adaptation. This includes applications like virtual assistants that need to maintain conversation context over extended periods and manage various user requests. Its stateful nature and flexible graph structure make it suitable for these scenarios where the flow of the application is not linear. [...] LangChain excels at sequential tasks, like retrieving data, processing it, and outputting a result. LangGraph is better suited for complex, adaptive systems that require ongoing interaction, such as virtual assistants that need to maintain context over long conversations.\n",
      "Which Should You Use?\n",
      "promt is:\n",
      "Answer the question using the following context:\n",
      "\n",
      "LangGraph ensures agents execute in the correct order and that necessary information is exchanged seamlessly. This coordination is vital for complex applications where multiple agents need to work together to achieve a common goal. By managing the flow of data and the sequence of operations, LangGraph allows developers to focus on the high-level logic of their applications rather than the intricacies of agent coordination.\n",
      "These agents can execute complex workflows, interact with other systems, and adapt to new information dynamically. LangGraph's structured framework ensures that each agent operates efficiently and effectively, making it suitable for tasks like automated customer support, data processing, and system monitoring.\n",
      "What’s impressive is that LangGraph provides a high-level abstraction to build AI applications that involve multiple agents and require them to seamlessly interact with one another.\n",
      "It streamlines, simplifies, and accelerates the development process by giving developers the flexibility to build LLM apps with various architectures. Further, LangGraph enables developers to define the actors, their attributes, their relationships, and their behaviors using a graph-based representation. 1. Advanced Chatbots: LangGraph's ability to create cyclical graphs and manage sophisticated language tasks makes it particularly useful for developing advanced chatbots that require more flexible and customized interactions.\n",
      "Interactive AI Systems: The flexibility and dynamic nature of LangGraph make it well-suited for interactive AI systems that need to manage and execute complex language tasks, enabling more adaptable and customizable agent runtimes. Cyclic data flows: LangGraph supports cyclic data flows, which allow nodes to receive feedback from their previous outputs and inputs. This feature enables applications to maintain a memory of past interactions and use that information to tailor their responses accordingly.\n",
      "Ease of use: LangGraph is designed to be easy to use, with a simple and intuitive API that enables developers to create stateful, multi-actor applications with LLMs quickly.\n",
      "Flexible Message Types and Parameters\n",
      "LangGraph also provides a versatile way to handle message types and parameters. Each node can produce messages of any type: AI messages, function messages, or system messages. These messages can also include a variety of parameters beyond just the basic ‘content’ parameter. Here’s why this flexibility is beneficial: Conclusion\n",
      "LangGraph’s advanced workflow control, the ability to ensure quality in function calling, the customization of message types and parameters, and convenient state and LLM token management are just a few reasons why it stood out to me among the rest of agent frameworks. These features not only streamline the development process but also ensure that the end product is flexible, reliable, and user centric. As AI continues to evolve, I believe compound systems are set to become a leading paradigm. Now you might wonder which frameworks are optimal for constructing such compound systems. In my role, while developing a virtual assistant, I delved into various frameworks to find the one that best suited our needs. Following an extensive evaluation and practical application, LangGraph emerged as my top choice and here’s why.\n",
      "Advanced Workflow Control\n",
      "Additionally, LangGraph’s built-in persistence allows you to save and resume workflows at any point, facilitating smooth recovery from interruptions and supporting advanced use cases like time travel and long-term memory. LangGraph is perfect for creating dynamic, reliable multi-agent systems. LangGraph uses graphs to build stateful applications with large language models. It enables the orchestration of complex workflows with cycles and fine control over flow and state. It features built-in persistence for error recovery and human-in-the-loop interactions and integrates seamlessly with existing tools and frameworks.\n",
      "But if you’re building something more complex — like a virtual assistant or a system that needs to handle multiple, interdependent tasks — LangGraph is the way to go. Its graph structure and robust state management make it perfect for applications that require flexibility and context awareness. LangGraph is ideal for complex systems that require continuous interaction and adaptation. This includes applications like virtual assistants that need to maintain conversation context over extended periods and manage various user requests. Its stateful nature and flexible graph structure make it suitable for these scenarios where the flow of the application is not linear. LangChain excels at sequential tasks, like retrieving data, processing it, and outputting a result. LangGraph is better suited for complex, adaptive systems that require ongoing interaction, such as virtual assistants that need to maintain context over long conversations.\n",
      "\n",
      "Q: Why should I use langgraph?\n"
     ]
    },
    {
     "name": "stderr",
     "output_type": "stream",
     "text": [
      "This is a friendly reminder - the current text generation call will exceed the model's predefined maximum length (1024). Depending on the model, you may observe exceptions, performance degradation, or nothing at all.\n"
     ]
    },
    {
     "name": "stdout",
     "output_type": "stream",
     "text": [
      "return answer node\n",
      "{'answer': \"Answer the question using the following context:\\n\\nLangGraph ensures agents execute in the correct order and that necessary information is exchanged seamlessly. This coordination is vital for complex applications where multiple agents need to work together to achieve a common goal. By managing the flow of data and the sequence of operations, LangGraph allows developers to focus on the high-level logic of their applications rather than the intricacies of agent coordination.\\nThese agents can execute complex workflows, interact with other systems, and adapt to new information dynamically. LangGraph's structured framework ensures that each agent operates efficiently and effectively, making it suitable for tasks like automated customer support, data processing, and system monitoring.\\nWhat’s impressive is that LangGraph provides a high-level abstraction to build AI applications that involve multiple agents and require them to seamlessly interact with one another.\\nIt streamlines, simplifies, and accelerates the development process by giving developers the flexibility to build LLM apps with various architectures. Further, LangGraph enables developers to define the actors, their attributes, their relationships, and their behaviors using a graph-based representation. 1. Advanced Chatbots: LangGraph's ability to create cyclical graphs and manage sophisticated language tasks makes it particularly useful for developing advanced chatbots that require more flexible and customized interactions.\\nInteractive AI Systems: The flexibility and dynamic nature of LangGraph make it well-suited for interactive AI systems that need to manage and execute complex language tasks, enabling more adaptable and customizable agent runtimes. Cyclic data flows: LangGraph supports cyclic data flows, which allow nodes to receive feedback from their previous outputs and inputs. This feature enables applications to maintain a memory of past interactions and use that information to tailor their responses accordingly.\\nEase of use: LangGraph is designed to be easy to use, with a simple and intuitive API that enables developers to create stateful, multi-actor applications with LLMs quickly.\\nFlexible Message Types and Parameters\\nLangGraph also provides a versatile way to handle message types and parameters. Each node can produce messages of any type: AI messages, function messages, or system messages. These messages can also include a variety of parameters beyond just the basic ‘content’ parameter. Here’s why this flexibility is beneficial: Conclusion\\nLangGraph’s advanced workflow control, the ability to ensure quality in function calling, the customization of message types and parameters, and convenient state and LLM token management are just a few reasons why it stood out to me among the rest of agent frameworks. These features not only streamline the development process but also ensure that the end product is flexible, reliable, and user centric. As AI continues to evolve, I believe compound systems are set to become a leading paradigm. Now you might wonder which frameworks are optimal for constructing such compound systems. In my role, while developing a virtual assistant, I delved into various frameworks to find the one that best suited our needs. Following an extensive evaluation and practical application, LangGraph emerged as my top choice and here’s why.\\nAdvanced Workflow Control\\nAdditionally, LangGraph’s built-in persistence allows you to save and resume workflows at any point, facilitating smooth recovery from interruptions and supporting advanced use cases like time travel and long-term memory. LangGraph is perfect for creating dynamic, reliable multi-agent systems. LangGraph uses graphs to build stateful applications with large language models. It enables the orchestration of complex workflows with cycles and fine control over flow and state. It features built-in persistence for error recovery and human-in-the-loop interactions and integrates seamlessly with existing tools and frameworks.\\nBut if you’re building something more complex — like a virtual assistant or a system that needs to handle multiple, interdependent tasks — LangGraph is the way to go. Its graph structure and robust state management make it perfect for applications that require flexibility and context awareness. LangGraph is ideal for complex systems that require continuous interaction and adaptation. This includes applications like virtual assistants that need to maintain conversation context over extended periods and manage various user requests. Its stateful nature and flexible graph structure make it suitable for these scenarios where the flow of the application is not linear. LangChain excels at sequential tasks, like retrieving data, processing it, and outputting a result. LangGraph is better suited for complex, adaptive systems that require ongoing interaction, such as virtual assistants that need to maintain context over long conversations.\\n\\nQ: Why should I use langgraph?\\nThis is really useful for creating complex, complex, and user-centered automation applications. The best way to simplify your task management is to create an appropriate workflow design that delivers the desired experience, while ensuring that all users can be at fault.\\nThe second factor behind this means that different processes that implement different requirements—such as the following conditions:\\nMIDIT. This is an important feature that we rely on every time a process is implemented, the application provides state-level validation as\"}\n",
      "Answer the question using the following context:\n",
      "\n",
      "LangGraph ensures agents execute in the correct order and that necessary information is exchanged seamlessly. This coordination is vital for complex applications where multiple agents need to work together to achieve a common goal. By managing the flow of data and the sequence of operations, LangGraph allows developers to focus on the high-level logic of their applications rather than the intricacies of agent coordination.\n",
      "These agents can execute complex workflows, interact with other systems, and adapt to new information dynamically. LangGraph's structured framework ensures that each agent operates efficiently and effectively, making it suitable for tasks like automated customer support, data processing, and system monitoring.\n",
      "What’s impressive is that LangGraph provides a high-level abstraction to build AI applications that involve multiple agents and require them to seamlessly interact with one another.\n",
      "It streamlines, simplifies, and accelerates the development process by giving developers the flexibility to build LLM apps with various architectures. Further, LangGraph enables developers to define the actors, their attributes, their relationships, and their behaviors using a graph-based representation. 1. Advanced Chatbots: LangGraph's ability to create cyclical graphs and manage sophisticated language tasks makes it particularly useful for developing advanced chatbots that require more flexible and customized interactions.\n",
      "Interactive AI Systems: The flexibility and dynamic nature of LangGraph make it well-suited for interactive AI systems that need to manage and execute complex language tasks, enabling more adaptable and customizable agent runtimes. Cyclic data flows: LangGraph supports cyclic data flows, which allow nodes to receive feedback from their previous outputs and inputs. This feature enables applications to maintain a memory of past interactions and use that information to tailor their responses accordingly.\n",
      "Ease of use: LangGraph is designed to be easy to use, with a simple and intuitive API that enables developers to create stateful, multi-actor applications with LLMs quickly.\n",
      "Flexible Message Types and Parameters\n",
      "LangGraph also provides a versatile way to handle message types and parameters. Each node can produce messages of any type: AI messages, function messages, or system messages. These messages can also include a variety of parameters beyond just the basic ‘content’ parameter. Here’s why this flexibility is beneficial: Conclusion\n",
      "LangGraph’s advanced workflow control, the ability to ensure quality in function calling, the customization of message types and parameters, and convenient state and LLM token management are just a few reasons why it stood out to me among the rest of agent frameworks. These features not only streamline the development process but also ensure that the end product is flexible, reliable, and user centric. As AI continues to evolve, I believe compound systems are set to become a leading paradigm. Now you might wonder which frameworks are optimal for constructing such compound systems. In my role, while developing a virtual assistant, I delved into various frameworks to find the one that best suited our needs. Following an extensive evaluation and practical application, LangGraph emerged as my top choice and here’s why.\n",
      "Advanced Workflow Control\n",
      "Additionally, LangGraph’s built-in persistence allows you to save and resume workflows at any point, facilitating smooth recovery from interruptions and supporting advanced use cases like time travel and long-term memory. LangGraph is perfect for creating dynamic, reliable multi-agent systems. LangGraph uses graphs to build stateful applications with large language models. It enables the orchestration of complex workflows with cycles and fine control over flow and state. It features built-in persistence for error recovery and human-in-the-loop interactions and integrates seamlessly with existing tools and frameworks.\n",
      "But if you’re building something more complex — like a virtual assistant or a system that needs to handle multiple, interdependent tasks — LangGraph is the way to go. Its graph structure and robust state management make it perfect for applications that require flexibility and context awareness. LangGraph is ideal for complex systems that require continuous interaction and adaptation. This includes applications like virtual assistants that need to maintain conversation context over extended periods and manage various user requests. Its stateful nature and flexible graph structure make it suitable for these scenarios where the flow of the application is not linear. LangChain excels at sequential tasks, like retrieving data, processing it, and outputting a result. LangGraph is better suited for complex, adaptive systems that require ongoing interaction, such as virtual assistants that need to maintain context over long conversations.\n",
      "\n",
      "Q: Why should I use langgraph?\n",
      "This is really useful for creating complex, complex, and user-centered automation applications. The best way to simplify your task management is to create an appropriate workflow design that delivers the desired experience, while ensuring that all users can be at fault.\n",
      "The second factor behind this means that different processes that implement different requirements—such as the following conditions:\n",
      "MIDIT. This is an important feature that we rely on every time a process is implemented, the application provides state-level validation as\n"
     ]
    }
   ],
   "source": [
    "response = graph.invoke({\"question\" : \"Why should I use langgraph?\"})\n",
    "print(response[\"answer\"])"
   ]
  },
  {
   "cell_type": "code",
   "execution_count": null,
   "id": "49e1e72c",
   "metadata": {},
   "outputs": [
    {
     "name": "stdout",
     "output_type": "stream",
     "text": [
      "<class 'str'>\n",
      "better suited for complex, adaptive systems that require ongoing interaction\n"
     ]
    }
   ],
   "source": [
    "print(type(response[\"answer\"][\"answer\"]))\n",
    "print(response[\"answer\"][\"answer\"])"
   ]
  },
  {
   "cell_type": "code",
   "execution_count": null,
   "id": "d0a64646",
   "metadata": {},
   "outputs": [],
   "source": []
  }
 ],
 "metadata": {
  "kernelspec": {
   "display_name": "AI-research-assistant",
   "language": "python",
   "name": "python3"
  },
  "language_info": {
   "codemirror_mode": {
    "name": "ipython",
    "version": 3
   },
   "file_extension": ".py",
   "mimetype": "text/x-python",
   "name": "python",
   "nbconvert_exporter": "python",
   "pygments_lexer": "ipython3",
   "version": "3.10.16"
  }
 },
 "nbformat": 4,
 "nbformat_minor": 5
}
